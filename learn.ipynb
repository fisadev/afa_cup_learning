{
 "metadata": {
  "name": "",
  "signature": "sha256:9a0acad8fed279817cbdf09a473970a0b05b47774cbe5ab4f977c3ce08675bdb"
 },
 "nbformat": 3,
 "nbformat_minor": 0,
 "worksheets": [
  {
   "cells": [
    {
     "cell_type": "markdown",
     "metadata": {},
     "source": [
      "World Cup Learning\n",
      "------------------\n",
      "\n",
      "Here I try to predict afa world matches results, based on the knowledge of previous matches from the cups since the year 1990.\n",
      "\n",
      "I'll use a MLP neural network classifier, my inputs will be the past matches (replacing each team name with a lot of stats from both), and my output will be a number indicating the result (0 = tie, 1 = wins team1, 2 = wins team2).\n",
      "\n",
      "I'll be using pybrain for the classifier, pandas to hack my way through the data, and pygal for the graphs (far easier than matplotlib). And a lot of extra useful things implemented in the utils.py file, mostly to abstract the data processing I need before I feed the classifier."
     ]
    },
    {
     "cell_type": "code",
     "collapsed": false,
     "input": [
      "from random import random\n",
      "\n",
      "from IPython.display import SVG\n",
      "import pygal\n",
      "\n",
      "from pybrain.structure import SigmoidLayer\n",
      "from pybrain.tools.shortcuts import buildNetwork\n",
      "from pybrain.supervised.trainers import BackpropTrainer\n",
      "from pybrain.datasets import ClassificationDataSet\n",
      "from pybrain.utilities import percentError\n",
      "\n",
      "from utils import get_matches, get_team_stats, extract_samples, normalize, split_samples, graph_teams_stat_bars, graph_matches_results_scatter\n"
     ],
     "language": "python",
     "metadata": {},
     "outputs": []
    },
    {
     "cell_type": "markdown",
     "metadata": {},
     "source": [
      "Configs\n",
      "-------"
     ]
    },
    {
     "cell_type": "code",
     "collapsed": false,
     "input": [
      "# how many years is \"recent\"\n",
      "recent_years = 2\n",
      "\n",
      "# the features I will feed to the classifier as input data.\n",
      "input_features = ['year',\n",
      "                  'matches_played_all_time',\n",
      "                  'matches_played_all_time_2',\n",
      "                  'matches_played_recent',\n",
      "                  'matches_played_recent_2',\n",
      "                  'matches_won_percent_recent',\n",
      "                  'matches_won_percent_recent_2',\n",
      "                  'matches_won_percent_all_time',\n",
      "                  'matches_won_percent_all_time_2',]\n",
      "\n",
      "# the feature giving the result the classifier must learn to predict (I recommend allways using 'winner')\n",
      "output_feature = 'winner'\n",
      "\n",
      "# used to avoid including tied matches in the learning process. I found this greatly improves the classifier accuracy.\n",
      "# I know there will be some ties, but I'm willing to fail on those and have better accuracy with all the rest.\n",
      "# at this point, this code will break if you set it to False, because the network uses a sigmoid function with a \n",
      "# threeshold for output, so it is able to distinquish only 2 kinds of results.\n",
      "exclude_ties = True\n",
      "\n",
      "# used to duplicate matches data, reversing the teams (team1->team2, and viceversa). \n",
      "# This helps on visualizations, and also improves precission of the predictions avoiding a dependence on the\n",
      "# order of the teams from the input.\n",
      "duplicate_with_reversed = True"
     ],
     "language": "python",
     "metadata": {},
     "outputs": []
    },
    {
     "cell_type": "code",
     "collapsed": false,
     "input": [
      "def show(graph):\n",
      "    '''Small utility to display pygal graphs'''\n",
      "    return SVG(graph.render())"
     ],
     "language": "python",
     "metadata": {},
     "outputs": []
    },
    {
     "cell_type": "markdown",
     "metadata": {},
     "source": [
      "Team stats\n",
      "----------\n",
      "\n",
      "First we need the teams stats. We can't feed the classifier inputs like ('river plate', 'boca'), we need to give it numbers. And not any numbers, not just ids, but numbers that could be somewhat related to the result of the matches.\n",
      "\n",
      "For example: the percentage of won matches of each team is something that could have an impact in the result, so that stat is a very good candidate.\n",
      "\n",
      "We just calculate a lots of stats per team, and after we will decide which ones to use."
     ]
    },
    {
     "cell_type": "code",
     "collapsed": false,
     "input": [
      "team_stats = get_team_stats()\n",
      "team_stats"
     ],
     "language": "python",
     "metadata": {},
     "outputs": []
    },
    {
     "cell_type": "markdown",
     "metadata": {},
     "source": [
      "Lets visualize some of those stats, just because it helps paint a bigger picture on how good the teams are.\n",
      "\n",
      "(you can hoover with your mouse on the '...' from the x axys to see the team name)"
     ]
    },
    {
     "cell_type": "code",
     "collapsed": false,
     "input": [
      "show(graph_teams_stat_bars(team_stats, 'matches_won_percent'))"
     ],
     "language": "python",
     "metadata": {},
     "outputs": []
    },
    {
     "cell_type": "markdown",
     "metadata": {},
     "source": [
      "Matches\n",
      "-------\n",
      "\n",
      "Now we need to get the matches data, including the \"reversed\" duplication of matches, and adding the team stats in each match."
     ]
    },
    {
     "cell_type": "code",
     "collapsed": false,
     "input": [
      "matches = get_matches(with_team_stats=True,\n",
      "                      duplicate_with_reversed=duplicate_with_reversed,\n",
      "                      exclude_ties=exclude_ties)\n",
      "        \n",
      "matches"
     ],
     "language": "python",
     "metadata": {},
     "outputs": []
    },
    {
     "cell_type": "markdown",
     "metadata": {},
     "source": [
      "Are the results able to be classified? Can we see a pattern, some kind of grouping of results based on the stats of bot teams?\n",
      "\n",
      "Let's try visualizing two of the most interesting ones: matches won percent, and podium score yearly (mean)."
     ]
    },
    {
     "cell_type": "code",
     "collapsed": false,
     "input": [
      "show(graph_matches_results_scatter(matches, 'matches_won_percent', 'matches_won_percent_2'))"
     ],
     "language": "python",
     "metadata": {},
     "outputs": []
    },
    {
     "cell_type": "markdown",
     "metadata": {},
     "source": [
      "Before any conclussions: there is more there than what you can see with your eyes. At some location, there could be more than 1 point, and you only see the one on the top.\n",
      "\n",
      "The graph tells us something that most people already expect: there is a small tendency on the result, the team with the better matches won percent tends to win.\n",
      "\n",
      "But remember, the classifier can learn a lot more than just those simple relations based on the info we give to it. These graphs were just a screening to confirm some basic intuitions."
     ]
    },
    {
     "cell_type": "markdown",
     "metadata": {},
     "source": [
      "Learn\n",
      "-----\n",
      "\n",
      "Ok, now we have everything we need. Lets feed the selected input features to a the neural network classifier, and let it learn.\n",
      "\n",
      "We have to normalize the data, otherwise the features with smaller values will impose a greater weight on the prediction.\n",
      "\n",
      "Also, we use a percentage of the inputs to train, but keep the rest \"hidden\", we don't let the classifier see them while learning. After the training we use those inputs to \"test\" the ability of the classifier to predict data it has never seen before (and data we already know the correct answer)."
     ]
    },
    {
     "cell_type": "code",
     "collapsed": false,
     "input": [
      "inputs, outputs = extract_samples(matches,\n",
      "                                  input_features,\n",
      "                                  output_feature)\n",
      "\n",
      "normalizer, inputs = normalize(inputs)\n",
      "\n",
      "train_inputs, train_outputs, test_inputs, test_outputs = split_samples(inputs, outputs)\n",
      "\n",
      "n = buildNetwork(len(input_features),\n",
      "                 10 * len(input_features),\n",
      "                 10 * len(input_features),\n",
      "                 1,\n",
      "                 outclass=SigmoidLayer,\n",
      "                 bias=True)\n"
     ],
     "language": "python",
     "metadata": {},
     "outputs": []
    },
    {
     "cell_type": "markdown",
     "metadata": {},
     "source": [
      "To be able to evaluate the results and show progress on the learning cycle, we need these two functions wich help us calculate how well the network can predict the results from the matches used to learn, and the matches it doesn't know."
     ]
    },
    {
     "cell_type": "code",
     "collapsed": false,
     "input": [
      "def neural_result(input):\n",
      "    \"\"\"Call the neural network, and translates its output to a match result.\"\"\"\n",
      "    n_output = n.activate(input) \n",
      "    if n_output >= 0.5:\n",
      "        return 2\n",
      "    else:\n",
      "        return 1\n",
      "    \n",
      "def test_network():\n",
      "    \"\"\"Calculate train and test sets errors.\"\"\"\n",
      "    print (100 - percentError(map(neural_result, train_inputs), train_outputs), \n",
      "           100 - percentError(map(neural_result, test_inputs), test_outputs))"
     ],
     "language": "python",
     "metadata": {},
     "outputs": []
    },
    {
     "cell_type": "markdown",
     "metadata": {},
     "source": [
      "Create a train set (a kind of dataset that pybrain uses to train neural networks), and display initial accuracy on both sets (train and test)."
     ]
    },
    {
     "cell_type": "code",
     "collapsed": false,
     "input": [
      "train_set = ClassificationDataSet(len(input_features))\n",
      "\n",
      "for i, input_line in enumerate(train_inputs):\n",
      "    train_set.addSample(train_inputs[i], [train_outputs[i] - 1])\n",
      "\n",
      "trainer = BackpropTrainer(n, dataset=train_set, momentum=0.5, weightdecay=0.0)\n",
      "\n",
      "train_set.assignClasses()\n",
      "\n",
      "test_network()"
     ],
     "language": "python",
     "metadata": {},
     "outputs": []
    },
    {
     "cell_type": "markdown",
     "metadata": {},
     "source": [
      "Train the network, for a given number of iterations. You can re-run this step many times, and it will keep learning, but as you know, if you train too much you can end overfitting the training data (this is visible when the test set accuracy starts to decrease)."
     ]
    },
    {
     "cell_type": "code",
     "collapsed": false,
     "input": [
      "for i in range(20):\n",
      "    trainer.train()\n",
      "    test_network()"
     ],
     "language": "python",
     "metadata": {},
     "outputs": []
    },
    {
     "cell_type": "markdown",
     "metadata": {},
     "source": [
      "The closer this score is to 100%, the better the classifier is doing its predictions. A score of 100 means the classifier allways predicts the exact real result, something impossible.\n",
      "\n",
      "And something around 75% sounds impressive, but in fact is not **that** good. It's pretty good, but consider that just throwing a coin will get you 50%. So this sits in the middle between throwing a coin and having a time machine."
     ]
    },
    {
     "cell_type": "markdown",
     "metadata": {},
     "source": [
      "Predict\n",
      "-------\n",
      "\n",
      "With the classifier already trained, we can start making predictions. But we need a little function able to translate inputs like this: (2014, 'river plate', 'boca'), to the numeric inputs the classifier expects (based on the input features).\n",
      "\n",
      "This function does the conversion, also normalizes the data with the same normalizer used before, and then just asks the classifier for the prediction."
     ]
    },
    {
     "cell_type": "code",
     "collapsed": false,
     "input": [
      "def predict(year, team1, team2):\n",
      "    inputs = []\n",
      "    \n",
      "    for feature in input_features:\n",
      "        from_team_2 = '_2' in feature\n",
      "        feature = feature.replace('_2', '')\n",
      "        \n",
      "        if feature in team_stats.columns.values:\n",
      "            team = team2 if from_team_2 else team1\n",
      "            value = team_stats.loc[team, feature]\n",
      "        elif feature == 'year':\n",
      "            value = year\n",
      "        else:\n",
      "            raise ValueError(\"Don't know where to get feature: \" + feature)\n",
      "            \n",
      "        inputs.append(value)\n",
      "        \n",
      "    inputs = normalizer.transform(inputs)\n",
      "    result = neural_result(inputs)\n",
      "    \n",
      "    if result == 0:\n",
      "        return 'tie'\n",
      "    elif result == 1:\n",
      "        return team1\n",
      "    elif result == 2:\n",
      "        return team2\n",
      "    else:\n",
      "        return 'Unknown result: ' + str(result)"
     ],
     "language": "python",
     "metadata": {},
     "outputs": []
    },
    {
     "cell_type": "markdown",
     "metadata": {},
     "source": [
      "Some predictions about the past, compared to real results:\n",
      "----------------------------------------------------------\n",
      "\n",
      "Even while we know those results and some of them where used to train, that doesn't guarantee the real result is what the classifier will predict."
     ]
    },
    {
     "cell_type": "code",
     "collapsed": false,
     "input": [
      "predict(2014, 'river plate', 'boca')"
     ],
     "language": "python",
     "metadata": {},
     "outputs": []
    },
    {
     "cell_type": "code",
     "collapsed": false,
     "input": [
      "predict(2000, 'river plate', 'boca')\n"
     ],
     "language": "python",
     "metadata": {},
     "outputs": []
    },
    {
     "cell_type": "code",
     "collapsed": false,
     "input": [
      "predict(1995, 'river plate', 'boca')"
     ],
     "language": "python",
     "metadata": {},
     "outputs": []
    },
    {
     "cell_type": "markdown",
     "metadata": {},
     "source": [
      "Some predictions about the future:\n",
      "----------------------------------\n",
      "\n",
      "(at least these where \"future\" at the moment of programming)"
     ]
    },
    {
     "cell_type": "code",
     "collapsed": false,
     "input": [
      "predict(2015, 'river plate', 'boca')"
     ],
     "language": "python",
     "metadata": {},
     "outputs": []
    },
    {
     "cell_type": "code",
     "collapsed": false,
     "input": [
      "predict(2014, 'colon', 'union (santa fe)')"
     ],
     "language": "python",
     "metadata": {},
     "outputs": []
    },
    {
     "cell_type": "code",
     "collapsed": false,
     "input": [],
     "language": "python",
     "metadata": {},
     "outputs": []
    }
   ],
   "metadata": {}
  }
 ]
}